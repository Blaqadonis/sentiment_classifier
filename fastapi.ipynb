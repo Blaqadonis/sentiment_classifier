{
  "cells": [
    {
      "cell_type": "code",
      "execution_count": 1,
      "metadata": {
        "id": "1VxWNygGGcP8"
      },
      "outputs": [
        {
          "name": "stdout",
          "output_type": "stream",
          "text": [
            "Note: you may need to restart the kernel to use updated packages.\n"
          ]
        }
      ],
      "source": [
        "pip install cohere fastapi  \"uvicorn[standard]\" --q"
      ]
    },
    {
      "cell_type": "code",
      "execution_count": 2,
      "metadata": {},
      "outputs": [],
      "source": [
        "from fastapi import FastAPI\n",
        "from pydantic import BaseModel, conlist\n",
        "import os\n",
        "import cohere\n",
        "from cohere.responses.classify import Example\n",
        "\n",
        "api_key = os.environ['api_key']\n",
        "co = cohere.Client(api_key)"
      ]
    },
    {
      "cell_type": "code",
      "execution_count": null,
      "metadata": {
        "id": "MRr880T-G7yy"
      },
      "outputs": [],
      "source": [
        "response = co.classify(\n",
        "  model='embed-english-v3.0',\n",
        "  inputs=[\"Delivery was late\", \"This item came damaged\"],\n",
        "  examples=[Example(\"The order came 5 days early\", \"positive\"),\n",
        "            Example(\"The item exceeded my expectations\", \"positive\"),\n",
        "            Example(\"I ordered more for my friends\", \"positive\"),\n",
        "            Example(\"I would buy this again\", \"positive\"),\n",
        "            Example(\"I would recommend this to others\", \"positive\"),\n",
        "            Example(\"The package was damaged\", \"negative\"),\n",
        "            Example(\"The order is 5 days late\", \"negative\"),\n",
        "            Example(\"The order was incorrect\", \"negative\"),\n",
        "            Example(\"I want to return my item\", \"negative\"),\n",
        "            Example(\"The item\\'s material feels low quality\", \"negative\"),\n",
        "            Example(\"The item was nothing special\", \"neutral\"),\n",
        "            Example(\"I would not buy this again but it wasn\\'t a waste of money\", \"neutral\"),\n",
        "            Example(\"The item was neither amazing or terrible\", \"neutral\"),\n",
        "            Example(\"The item was okay\", \"neutral\"),\n",
        "            Example(\"I have no emotions towards this item\", \"neutral\")])"
      ]
    }
  ],
  "metadata": {
    "colab": {
      "provenance": []
    },
    "kernelspec": {
      "display_name": "Python 3",
      "name": "python3"
    },
    "language_info": {
      "codemirror_mode": {
        "name": "ipython",
        "version": 3
      },
      "file_extension": ".py",
      "mimetype": "text/x-python",
      "name": "python",
      "nbconvert_exporter": "python",
      "pygments_lexer": "ipython3",
      "version": "3.10.12"
    }
  },
  "nbformat": 4,
  "nbformat_minor": 0
}
